{
 "cells": [
  {
   "cell_type": "code",
   "execution_count": null,
   "id": "44609783-c2c6-4db9-8fd8-4437451dd9bc",
   "metadata": {},
   "outputs": [],
   "source": [
    "import pandas as pd"
   ]
  },
  {
   "cell_type": "code",
   "execution_count": null,
   "id": "f21c20d3-6c63-4cb6-a466-3c79523a846b",
   "metadata": {},
   "outputs": [],
   "source": [
    "dataset=pd.read_csv(\"Social_Network_Ads.csv\")"
   ]
  },
  {
   "cell_type": "code",
   "execution_count": null,
   "id": "e507bd3d-8ce9-4f20-96c3-9ae2836031d5",
   "metadata": {},
   "outputs": [],
   "source": [
    "dataset"
   ]
  },
  {
   "cell_type": "code",
   "execution_count": null,
   "id": "76f9433f-925f-42e7-a71a-54bf4a0cb6a0",
   "metadata": {},
   "outputs": [],
   "source": [
    "dataset=pd.get_dummies(dataset,dtype=int,drop_first=True)\n",
    "dataset"
   ]
  },
  {
   "cell_type": "code",
   "execution_count": null,
   "id": "91bc0ee8-5973-445b-9a6f-8245ff60b378",
   "metadata": {},
   "outputs": [],
   "source": [
    "dataset=dataset.drop(\"User ID\",axis=1)"
   ]
  },
  {
   "cell_type": "code",
   "execution_count": null,
   "id": "26df648b-b041-4e00-9b0c-6feb9e4329dc",
   "metadata": {},
   "outputs": [],
   "source": [
    "dataset[\"Purchased\"].value_counts()"
   ]
  },
  {
   "cell_type": "code",
   "execution_count": null,
   "id": "a9a2005a-99d2-40c5-9173-2e26fae1d265",
   "metadata": {},
   "outputs": [],
   "source": [
    "Independent=dataset[['User ID','Gender_Male','Age','EstimatedSalary']]\n",
    "Independent"
   ]
  },
  {
   "cell_type": "code",
   "execution_count": null,
   "id": "ae217526-9546-4820-a5a0-45352c46ceef",
   "metadata": {},
   "outputs": [],
   "source": [
    "Dependent=dataset[['Purchased']]\n",
    "Dependent"
   ]
  },
  {
   "cell_type": "code",
   "execution_count": null,
   "id": "93ed23ae-dffe-4d6a-96b2-775d4c0b83d6",
   "metadata": {},
   "outputs": [],
   "source": [
    "from sklearn.model_selection import train_test_split\n",
    "x_train,x_test,y_train,y_test = train_test_split(Independent,Dependent,test_size=0.30,random_state=0)"
   ]
  },
  {
   "cell_type": "code",
   "execution_count": null,
   "id": "acaa8a37-0255-4b45-ac35-db1429887bf6",
   "metadata": {},
   "outputs": [],
   "source": [
    "from sklearn.naive_bayes import ComplementNB\n",
    "classifier=ComplementNB()\n",
    "classifier.fit(x_train,y_train)"
   ]
  },
  {
   "cell_type": "code",
   "execution_count": null,
   "id": "29c7f9e8-a7e7-49fc-af82-2bf86f926c74",
   "metadata": {},
   "outputs": [],
   "source": [
    "y_pred=classifier.predict(x_test) #(.predict->defined function)\n",
    "from sklearn.metrics import confusion_matrix\n",
    "cm = confusion_matrix(y_test,y_pred)\n",
    "print(cm)"
   ]
  },
  {
   "cell_type": "code",
   "execution_count": null,
   "id": "5252d240-b24e-42bc-b40d-11996fadfe54",
   "metadata": {},
   "outputs": [],
   "source": [
    "from sklearn.metrics import classification_report\n",
    "clf_report=classification_report(y_test,y_pred)\n",
    "print(clf_report)"
   ]
  },
  {
   "cell_type": "code",
   "execution_count": null,
   "id": "1878c5e8-c185-4f1d-83b4-03d69ca3a121",
   "metadata": {},
   "outputs": [],
   "source": []
  }
 ],
 "metadata": {
  "kernelspec": {
   "display_name": "Python 3 (ipykernel)",
   "language": "python",
   "name": "python3"
  },
  "language_info": {
   "codemirror_mode": {
    "name": "ipython",
    "version": 3
   },
   "file_extension": ".py",
   "mimetype": "text/x-python",
   "name": "python",
   "nbconvert_exporter": "python",
   "pygments_lexer": "ipython3",
   "version": "3.12.4"
  }
 },
 "nbformat": 4,
 "nbformat_minor": 5
}
